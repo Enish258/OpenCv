{
 "cells": [
  {
   "cell_type": "code",
   "execution_count": 2,
   "metadata": {},
   "outputs": [],
   "source": [
    "import cv2\n",
    "import numpy as np\n"
   ]
  },
  {
   "cell_type": "code",
   "execution_count": 3,
   "metadata": {},
   "outputs": [],
   "source": [
    "image=cv2.imread(\"D:/Udemy/original/Master OpenCV/images/blobs.jpg\")"
   ]
  },
  {
   "cell_type": "code",
   "execution_count": 4,
   "metadata": {},
   "outputs": [
    {
     "data": {
      "text/plain": [
       "106"
      ]
     },
     "execution_count": 4,
     "metadata": {},
     "output_type": "execute_result"
    }
   ],
   "source": [
    "cv2.imshow(\"image\",image)\n",
    "cv2.waitKey(0)"
   ]
  },
  {
   "cell_type": "code",
   "execution_count": 5,
   "metadata": {},
   "outputs": [],
   "source": [
    "\n",
    "detector=cv2.SimpleBlobDetector_create()"
   ]
  },
  {
   "cell_type": "code",
   "execution_count": 6,
   "metadata": {},
   "outputs": [],
   "source": [
    "keypoints=detector.detect(image)"
   ]
  },
  {
   "cell_type": "code",
   "execution_count": 7,
   "metadata": {},
   "outputs": [
    {
     "data": {
      "text/plain": [
       "[<KeyPoint 000001F221AFCF00>,\n",
       " <KeyPoint 000001F221AFCED0>,\n",
       " <KeyPoint 000001F221AFCE70>,\n",
       " <KeyPoint 000001F222F9D8A0>,\n",
       " <KeyPoint 000001F222F9D8D0>,\n",
       " <KeyPoint 000001F222F9D9F0>,\n",
       " <KeyPoint 000001F222F9DA50>,\n",
       " <KeyPoint 000001F222F9D990>,\n",
       " <KeyPoint 000001F222F9DA20>,\n",
       " <KeyPoint 000001F222F9DA80>,\n",
       " <KeyPoint 000001F222F9DAB0>,\n",
       " <KeyPoint 000001F222F9DAE0>,\n",
       " <KeyPoint 000001F222F9DB10>,\n",
       " <KeyPoint 000001F222F9DB40>,\n",
       " <KeyPoint 000001F222F9DB70>,\n",
       " <KeyPoint 000001F222F9DBA0>,\n",
       " <KeyPoint 000001F222F9DBD0>,\n",
       " <KeyPoint 000001F222F9DC00>,\n",
       " <KeyPoint 000001F222F9DC30>,\n",
       " <KeyPoint 000001F222F9DC60>,\n",
       " <KeyPoint 000001F222F9DC90>,\n",
       " <KeyPoint 000001F222F9DCC0>,\n",
       " <KeyPoint 000001F222F9DCF0>,\n",
       " <KeyPoint 000001F222F9DD20>,\n",
       " <KeyPoint 000001F222F9DD50>,\n",
       " <KeyPoint 000001F222F9DD80>,\n",
       " <KeyPoint 000001F222F9DDB0>,\n",
       " <KeyPoint 000001F222F9DDE0>,\n",
       " <KeyPoint 000001F222F9DE10>,\n",
       " <KeyPoint 000001F222F9DE40>,\n",
       " <KeyPoint 000001F222F9DE70>,\n",
       " <KeyPoint 000001F222F9DEA0>]"
      ]
     },
     "execution_count": 7,
     "metadata": {},
     "output_type": "execute_result"
    }
   ],
   "source": [
    "keypoints"
   ]
  },
  {
   "cell_type": "code",
   "execution_count": 8,
   "metadata": {},
   "outputs": [
    {
     "data": {
      "text/plain": [
       "32"
      ]
     },
     "execution_count": 8,
     "metadata": {},
     "output_type": "execute_result"
    }
   ],
   "source": [
    "len(keypoints)"
   ]
  },
  {
   "cell_type": "code",
   "execution_count": 9,
   "metadata": {},
   "outputs": [
    {
     "data": {
      "text/plain": [
       "(562, 603, 3)"
      ]
     },
     "execution_count": 9,
     "metadata": {},
     "output_type": "execute_result"
    }
   ],
   "source": [
    "image.shape"
   ]
  },
  {
   "cell_type": "code",
   "execution_count": 10,
   "metadata": {},
   "outputs": [],
   "source": [
    "blank=np.zeros((1,1))"
   ]
  },
  {
   "cell_type": "code",
   "execution_count": 11,
   "metadata": {},
   "outputs": [],
   "source": [
    "blobs=cv2.drawKeypoints(image,keypoints,blank,(0,0,255),cv2.DRAW_MATCHES_FLAGS_DRAW_RICH_KEYPOINTS)"
   ]
  },
  {
   "cell_type": "code",
   "execution_count": 18,
   "metadata": {},
   "outputs": [
    {
     "data": {
      "text/plain": [
       "109"
      ]
     },
     "execution_count": 18,
     "metadata": {},
     "output_type": "execute_result"
    }
   ],
   "source": [
    "cv2.imshow(\"blobs\",blobs)\n",
    "cv2.waitKey(0)"
   ]
  },
  {
   "cell_type": "code",
   "execution_count": 19,
   "metadata": {},
   "outputs": [],
   "source": [
    "params=cv2.SimpleBlobDetector_Params()"
   ]
  },
  {
   "cell_type": "code",
   "execution_count": 20,
   "metadata": {},
   "outputs": [],
   "source": [
    "params.filterByCircularity=True\n",
    "params.minCircularity=0.9\n",
    "params.filterByConvexity=True\n",
    "params.minConvexity=0.2\n",
    "params.filterByInertia=True\n",
    "params.minInertiaRatio=0.01"
   ]
  },
  {
   "cell_type": "code",
   "execution_count": 21,
   "metadata": {},
   "outputs": [],
   "source": [
    "detector2=cv2.SimpleBlobDetector_create(params)"
   ]
  },
  {
   "cell_type": "code",
   "execution_count": 24,
   "metadata": {},
   "outputs": [],
   "source": [
    "keypoints2=detector2.detect(image)\n",
    "blobs2=cv2.drawKeypoints(image,keypoints2,blank,(0,0,255),cv2.DRAW_MATCHES_FLAGS_DRAW_RICH_KEYPOINTS)"
   ]
  },
  {
   "cell_type": "code",
   "execution_count": 25,
   "metadata": {},
   "outputs": [
    {
     "data": {
      "text/plain": [
       "44"
      ]
     },
     "execution_count": 25,
     "metadata": {},
     "output_type": "execute_result"
    }
   ],
   "source": [
    "cv2.imshow(\"circles\",blobs2)\n",
    "cv2.waitKey(0)"
   ]
  },
  {
   "cell_type": "code",
   "execution_count": null,
   "metadata": {},
   "outputs": [],
   "source": []
  }
 ],
 "metadata": {
  "kernelspec": {
   "display_name": "Python 3",
   "language": "python",
   "name": "python3"
  },
  "language_info": {
   "codemirror_mode": {
    "name": "ipython",
    "version": 3
   },
   "file_extension": ".py",
   "mimetype": "text/x-python",
   "name": "python",
   "nbconvert_exporter": "python",
   "pygments_lexer": "ipython3",
   "version": "3.7.3"
  }
 },
 "nbformat": 4,
 "nbformat_minor": 2
}
