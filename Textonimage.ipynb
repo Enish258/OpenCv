{
 "cells": [
  {
   "cell_type": "code",
   "execution_count": 1,
   "metadata": {},
   "outputs": [],
   "source": [
    "import cv2\n",
    "\n"
   ]
  },
  {
   "cell_type": "code",
   "execution_count": 2,
   "metadata": {},
   "outputs": [
    {
     "name": "stderr",
     "output_type": "stream",
     "text": [
      "'ls' is not recognized as an internal or external command,\n",
      "operable program or batch file.\n"
     ]
    }
   ],
   "source": [
    "!ls\n"
   ]
  },
  {
   "cell_type": "code",
   "execution_count": 3,
   "metadata": {},
   "outputs": [],
   "source": [
    "image=cv2.imread(\"D:/Downloads/opencv-tutorial/opencv-tutorial/jp.png\")"
   ]
  },
  {
   "cell_type": "code",
   "execution_count": 4,
   "metadata": {},
   "outputs": [
    {
     "data": {
      "text/plain": [
       "array([[[ 58,  46,  46],\n",
       "        [ 58,  46,  46],\n",
       "        [ 58,  46,  46],\n",
       "        ...,\n",
       "        [ 76,  50,  39],\n",
       "        [ 76,  50,  36],\n",
       "        [ 76,  52,  36]],\n",
       "\n",
       "       [[ 56,  44,  44],\n",
       "        [ 56,  44,  44],\n",
       "        [ 57,  45,  45],\n",
       "        ...,\n",
       "        [ 74,  47,  35],\n",
       "        [ 74,  48,  34],\n",
       "        [ 75,  51,  35]],\n",
       "\n",
       "       [[ 55,  43,  43],\n",
       "        [ 56,  44,  44],\n",
       "        [ 57,  45,  45],\n",
       "        ...,\n",
       "        [ 73,  49,  35],\n",
       "        [ 74,  48,  38],\n",
       "        [ 75,  49,  39]],\n",
       "\n",
       "       ...,\n",
       "\n",
       "       [[104,  99, 138],\n",
       "        [106, 101, 140],\n",
       "        [108, 103, 142],\n",
       "        ...,\n",
       "        [119, 101,  95],\n",
       "        [119, 101,  94],\n",
       "        [116, 101,  93]],\n",
       "\n",
       "       [[109, 105, 136],\n",
       "        [110, 105, 136],\n",
       "        [111, 108, 139],\n",
       "        ...,\n",
       "        [121, 105,  99],\n",
       "        [119, 103,  97],\n",
       "        [115, 102,  95]],\n",
       "\n",
       "       [[ 40,  37,  63],\n",
       "        [ 39,  36,  62],\n",
       "        [ 38,  35,  61],\n",
       "        ...,\n",
       "        [ 55,  40,  34],\n",
       "        [ 52,  40,  34],\n",
       "        [ 50,  38,  33]]], dtype=uint8)"
      ]
     },
     "execution_count": 4,
     "metadata": {},
     "output_type": "execute_result"
    }
   ],
   "source": [
    "image"
   ]
  },
  {
   "cell_type": "code",
   "execution_count": 5,
   "metadata": {},
   "outputs": [
    {
     "data": {
      "text/plain": [
       "111"
      ]
     },
     "execution_count": 5,
     "metadata": {},
     "output_type": "execute_result"
    }
   ],
   "source": [
    "cv2.imshow(\"image\",image)\n",
    "cv2.waitKey(0)"
   ]
  },
  {
   "cell_type": "code",
   "execution_count": 7,
   "metadata": {},
   "outputs": [],
   "source": [
    "(w,h,d)=image.shape\n"
   ]
  },
  {
   "cell_type": "code",
   "execution_count": 8,
   "metadata": {},
   "outputs": [
    {
     "data": {
      "text/plain": [
       "(322, 600, 3)"
      ]
     },
     "execution_count": 8,
     "metadata": {},
     "output_type": "execute_result"
    }
   ],
   "source": [
    "w,h,d"
   ]
  },
  {
   "cell_type": "code",
   "execution_count": 9,
   "metadata": {},
   "outputs": [],
   "source": [
    "import imutils"
   ]
  },
  {
   "cell_type": "code",
   "execution_count": 10,
   "metadata": {},
   "outputs": [],
   "source": [
    "resized=imutils.resize(image,width=300)"
   ]
  },
  {
   "cell_type": "code",
   "execution_count": 11,
   "metadata": {},
   "outputs": [
    {
     "data": {
      "text/plain": [
       "108"
      ]
     },
     "execution_count": 11,
     "metadata": {},
     "output_type": "execute_result"
    }
   ],
   "source": [
    "cv2.imshow(\"resized\",resized)\n",
    "cv2.waitKey(0)"
   ]
  },
  {
   "cell_type": "code",
   "execution_count": 13,
   "metadata": {},
   "outputs": [],
   "source": [
    "output=image.copy()"
   ]
  },
  {
   "cell_type": "code",
   "execution_count": 14,
   "metadata": {},
   "outputs": [],
   "source": [
    "text=cv2.putText(output,\"opencv +jurassic park\",(20,15),cv2.FONT_HERSHEY_SIMPLEX, 0.7, (255, 255, 255), 2)\n"
   ]
  },
  {
   "cell_type": "code",
   "execution_count": 15,
   "metadata": {},
   "outputs": [
    {
     "data": {
      "text/plain": [
       "105"
      ]
     },
     "execution_count": 15,
     "metadata": {},
     "output_type": "execute_result"
    }
   ],
   "source": [
    "cv2.imshow(\"text\",output)\n",
    "cv2.waitKey(0)"
   ]
  },
  {
   "cell_type": "code",
   "execution_count": 16,
   "metadata": {},
   "outputs": [
    {
     "data": {
      "text/plain": [
       "107"
      ]
     },
     "execution_count": 16,
     "metadata": {},
     "output_type": "execute_result"
    }
   ],
   "source": [
    "text2=cv2.putText(output,\"great movie\",(20,45),cv2.FONT_HERSHEY_SIMPLEX,0.7,(255,0,0),2)\n",
    "cv2.imshow(\"text\",output)\n",
    "cv2.waitKey(0)"
   ]
  },
  {
   "cell_type": "code",
   "execution_count": 17,
   "metadata": {},
   "outputs": [
    {
     "data": {
      "text/plain": [
       "107"
      ]
     },
     "execution_count": 17,
     "metadata": {},
     "output_type": "execute_result"
    }
   ],
   "source": [
    "a=\"by spielberg\"\n",
    "text=cv2.putText(output,a,(20,60),cv2.FONT_HERSHEY_SIMPLEX, 0.7, (255, 255, 255), 2)\n",
    "cv2.imshow(\"text\",output)\n",
    "cv2.waitKey(0)"
   ]
  },
  {
   "cell_type": "code",
   "execution_count": null,
   "metadata": {},
   "outputs": [],
   "source": []
  },
  {
   "cell_type": "code",
   "execution_count": null,
   "metadata": {},
   "outputs": [],
   "source": []
  },
  {
   "cell_type": "code",
   "execution_count": null,
   "metadata": {},
   "outputs": [],
   "source": []
  }
 ],
 "metadata": {
  "kernelspec": {
   "display_name": "Python 3",
   "language": "python",
   "name": "python3"
  },
  "language_info": {
   "codemirror_mode": {
    "name": "ipython",
    "version": 3
   },
   "file_extension": ".py",
   "mimetype": "text/x-python",
   "name": "python",
   "nbconvert_exporter": "python",
   "pygments_lexer": "ipython3",
   "version": "3.7.3"
  }
 },
 "nbformat": 4,
 "nbformat_minor": 2
}
