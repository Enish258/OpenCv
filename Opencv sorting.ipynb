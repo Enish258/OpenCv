{
 "cells": [
  {
   "cell_type": "code",
   "execution_count": 2,
   "metadata": {},
   "outputs": [],
   "source": [
    "import cv2\n",
    "import numpy as np\n",
    "import imutils\n"
   ]
  },
  {
   "cell_type": "code",
   "execution_count": 3,
   "metadata": {},
   "outputs": [],
   "source": [
    "images=cv2.imread(\"D:/Udemy/original/Master OpenCV/images/bunchofshapes.jpg\")"
   ]
  },
  {
   "cell_type": "code",
   "execution_count": 4,
   "metadata": {},
   "outputs": [],
   "source": [
    "blank=np.zeros((images.shape[0],images.shape[1],3))"
   ]
  },
  {
   "cell_type": "code",
   "execution_count": 5,
   "metadata": {},
   "outputs": [],
   "source": [
    "original_image=images"
   ]
  },
  {
   "cell_type": "code",
   "execution_count": 6,
   "metadata": {},
   "outputs": [],
   "source": [
    "gray=cv2.cvtColor(images,cv2.COLOR_BGR2GRAY)"
   ]
  },
  {
   "cell_type": "code",
   "execution_count": 8,
   "metadata": {},
   "outputs": [],
   "source": [
    "edge=cv2.Canny(gray,50,200)"
   ]
  },
  {
   "cell_type": "code",
   "execution_count": 8,
   "metadata": {},
   "outputs": [
    {
     "data": {
      "text/plain": [
       "107"
      ]
     },
     "execution_count": 8,
     "metadata": {},
     "output_type": "execute_result"
    }
   ],
   "source": [
    "cv2.imshow(\"edge\",edge)\n",
    "cv2.waitKey(0)"
   ]
  },
  {
   "cell_type": "code",
   "execution_count": 9,
   "metadata": {},
   "outputs": [],
   "source": [
    "contours,hierarchy=cv2.findContours(edge.copy(),cv2.RETR_EXTERNAL,cv2.CHAIN_APPROX_NONE)\n"
   ]
  },
  {
   "cell_type": "code",
   "execution_count": 10,
   "metadata": {},
   "outputs": [
    {
     "data": {
      "text/plain": [
       "47"
      ]
     },
     "execution_count": 10,
     "metadata": {},
     "output_type": "execute_result"
    }
   ],
   "source": [
    "cv2.drawContours(blank,contours,-1,(0,255,0),3)\n",
    "cv2.imshow(\"blank\",blank)\n",
    "cv2.waitKey(0)"
   ]
  },
  {
   "cell_type": "code",
   "execution_count": 11,
   "metadata": {},
   "outputs": [],
   "source": [
    "def get_area(contours):\n",
    "    all_area=[]\n",
    "    for cnt in contours:\n",
    "        area=cv2.getcontourArea(cnt)\n",
    "        all_area.append(area)\n",
    "        \n",
    "    return all_area\n",
    "        "
   ]
  },
  {
   "cell_type": "code",
   "execution_count": 12,
   "metadata": {},
   "outputs": [],
   "source": [
    "sorted_contours=sorted(contours,key=cv2.contourArea,reverse=True)"
   ]
  },
  {
   "cell_type": "code",
   "execution_count": 13,
   "metadata": {},
   "outputs": [],
   "source": [
    "copy=images.copy()"
   ]
  },
  {
   "cell_type": "code",
   "execution_count": 14,
   "metadata": {},
   "outputs": [],
   "source": [
    "for c in sorted_contours:\n",
    "    cv2.drawContours(copy,[c],-1,(0,255,0),3)\n",
    "    cv2.waitKey(0)\n",
    "    cv2.imshow(\"by area\",copy)\n",
    "cv2.waitKey(0)\n",
    "cv2.destroyAllWindows()"
   ]
  },
  {
   "cell_type": "code",
   "execution_count": 39,
   "metadata": {},
   "outputs": [],
   "source": [
    "def get_x(contours):\n",
    "    if cv2.contourArea(contours)>10:\n",
    "        M=cv2.moments(contours)\n",
    "        return(int(M['m10']/M['m00']))\n",
    "        \n",
    "   \n",
    "    \n",
    "        "
   ]
  },
  {
   "cell_type": "code",
   "execution_count": 40,
   "metadata": {},
   "outputs": [],
   "source": [
    "def label_contours(image,c,i):\n",
    "    M=cv2.moments(c)\n",
    "    cx=int(M['m10']/M['m00'])\n",
    "    cy=int(M['m01']/M['m00'])\n",
    "    cv2.circle(image,(cx,cy),10,(0,255,0),-1)\n",
    "    return image\n",
    "    "
   ]
  },
  {
   "cell_type": "code",
   "execution_count": 41,
   "metadata": {},
   "outputs": [],
   "source": [
    "copy2=images.copy()"
   ]
  },
  {
   "cell_type": "code",
   "execution_count": 42,
   "metadata": {},
   "outputs": [
    {
     "data": {
      "text/plain": [
       "107"
      ]
     },
     "execution_count": 42,
     "metadata": {},
     "output_type": "execute_result"
    }
   ],
   "source": [
    "for (i,c) in enumerate(contours):\n",
    "    orig=label_contours(copy2,c,i)\n",
    "cv2.imshow(\"center\",copy2)\n",
    "cv2.waitKey(0)"
   ]
  },
  {
   "cell_type": "code",
   "execution_count": 43,
   "metadata": {},
   "outputs": [],
   "source": [
    "sorted_center=sorted(contours,key=get_x,reverse=False)"
   ]
  },
  {
   "cell_type": "code",
   "execution_count": 44,
   "metadata": {},
   "outputs": [
    {
     "data": {
      "text/plain": [
       "[array([[[135, 245]],\n",
       " \n",
       "        [[135, 246]],\n",
       " \n",
       "        [[134, 247]],\n",
       " \n",
       "        ...,\n",
       " \n",
       "        [[138, 245]],\n",
       " \n",
       "        [[137, 245]],\n",
       " \n",
       "        [[136, 245]]], dtype=int32), array([[[596, 345]],\n",
       " \n",
       "        [[596, 346]],\n",
       " \n",
       "        [[595, 347]],\n",
       " \n",
       "        ...,\n",
       " \n",
       "        [[599, 346]],\n",
       " \n",
       "        [[598, 345]],\n",
       " \n",
       "        [[597, 345]]], dtype=int32), array([[[817, 370]],\n",
       " \n",
       "        [[816, 371]],\n",
       " \n",
       "        [[815, 371]],\n",
       " \n",
       "        ...,\n",
       " \n",
       "        [[820, 370]],\n",
       " \n",
       "        [[819, 370]],\n",
       " \n",
       "        [[818, 370]]], dtype=int32), array([[[1262,  258]],\n",
       " \n",
       "        [[1261,  259]],\n",
       " \n",
       "        [[1260,  259]],\n",
       " \n",
       "        ...,\n",
       " \n",
       "        [[1265,  258]],\n",
       " \n",
       "        [[1264,  258]],\n",
       " \n",
       "        [[1263,  258]]], dtype=int32)]"
      ]
     },
     "execution_count": 44,
     "metadata": {},
     "output_type": "execute_result"
    }
   ],
   "source": [
    "sorted_center"
   ]
  },
  {
   "cell_type": "code",
   "execution_count": 51,
   "metadata": {},
   "outputs": [],
   "source": [
    "for (i,c) in enumerate(sorted_center):\n",
    "    cv2.drawContours(copy2,[c],-1,(0,0,255),3)\n",
    "    (x,y,w,h)=cv2.boundingRect(c)\n",
    "    cropped=copy[y:y+h,x:x+w]\n",
    "    image_name=\"con\"+str(i+1)+\".jpg\"\n",
    "    cv2.imwrite(image_name,cropped)\n",
    "    "
   ]
  },
  {
   "cell_type": "code",
   "execution_count": 49,
   "metadata": {},
   "outputs": [
    {
     "data": {
      "text/plain": [
       "110"
      ]
     },
     "execution_count": 49,
     "metadata": {},
     "output_type": "execute_result"
    }
   ],
   "source": [
    "cv2.imshow(\"ltor\",copy2)\n",
    "cv2.waitKey(0)"
   ]
  },
  {
   "cell_type": "code",
   "execution_count": null,
   "metadata": {},
   "outputs": [],
   "source": []
  },
  {
   "cell_type": "code",
   "execution_count": null,
   "metadata": {},
   "outputs": [],
   "source": []
  },
  {
   "cell_type": "code",
   "execution_count": null,
   "metadata": {},
   "outputs": [],
   "source": []
  }
 ],
 "metadata": {
  "kernelspec": {
   "display_name": "Python 3",
   "language": "python",
   "name": "python3"
  },
  "language_info": {
   "codemirror_mode": {
    "name": "ipython",
    "version": 3
   },
   "file_extension": ".py",
   "mimetype": "text/x-python",
   "name": "python",
   "nbconvert_exporter": "python",
   "pygments_lexer": "ipython3",
   "version": "3.7.3"
  }
 },
 "nbformat": 4,
 "nbformat_minor": 2
}
