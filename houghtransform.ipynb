{
 "cells": [
  {
   "cell_type": "code",
   "execution_count": 132,
   "metadata": {},
   "outputs": [],
   "source": [
    "import cv2\n",
    "import numpy as np"
   ]
  },
  {
   "cell_type": "code",
   "execution_count": 133,
   "metadata": {},
   "outputs": [],
   "source": [
    "sudoku=cv2.imread(\"D:/Udemy/original/Master OpenCV/images/soduku.jpg\")"
   ]
  },
  {
   "cell_type": "code",
   "execution_count": 134,
   "metadata": {},
   "outputs": [],
   "source": [
    "gray=cv2.cvtColor(sudoku,cv2.COLOR_BGR2GRAY)"
   ]
  },
  {
   "cell_type": "code",
   "execution_count": 135,
   "metadata": {},
   "outputs": [
    {
     "data": {
      "text/plain": [
       "107"
      ]
     },
     "execution_count": 135,
     "metadata": {},
     "output_type": "execute_result"
    }
   ],
   "source": [
    "cv2.imshow(\"sudoku\",sudoku)\n",
    "cv2.waitKey(0)"
   ]
  },
  {
   "cell_type": "code",
   "execution_count": 137,
   "metadata": {},
   "outputs": [
    {
     "data": {
      "text/plain": [
       "array([[[ 5, 22, 25],\n",
       "        [ 7, 24, 27],\n",
       "        [ 6, 23, 26],\n",
       "        ...,\n",
       "        [ 1,  3,  4],\n",
       "        [ 1,  0,  2],\n",
       "        [29, 26, 28]],\n",
       "\n",
       "       [[ 7, 24, 27],\n",
       "        [ 8, 25, 28],\n",
       "        [ 7, 24, 27],\n",
       "        ...,\n",
       "        [ 0,  2,  3],\n",
       "        [ 0,  0,  1],\n",
       "        [11, 10, 12]],\n",
       "\n",
       "       [[ 8, 25, 28],\n",
       "        [ 8, 25, 28],\n",
       "        [ 9, 26, 29],\n",
       "        ...,\n",
       "        [ 0,  2,  3],\n",
       "        [ 0,  1,  2],\n",
       "        [ 0,  1,  2]],\n",
       "\n",
       "       ...,\n",
       "\n",
       "       [[16, 34, 35],\n",
       "        [17, 35, 36],\n",
       "        [15, 33, 34],\n",
       "        ...,\n",
       "        [32, 47, 33],\n",
       "        [32, 47, 33],\n",
       "        [32, 47, 33]],\n",
       "\n",
       "       [[15, 33, 34],\n",
       "        [16, 34, 35],\n",
       "        [14, 32, 33],\n",
       "        ...,\n",
       "        [31, 46, 32],\n",
       "        [31, 45, 33],\n",
       "        [32, 46, 34]],\n",
       "\n",
       "       [[13, 31, 32],\n",
       "        [15, 33, 34],\n",
       "        [16, 34, 35],\n",
       "        ...,\n",
       "        [30, 45, 31],\n",
       "        [30, 44, 32],\n",
       "        [32, 46, 34]]], dtype=uint8)"
      ]
     },
     "execution_count": 137,
     "metadata": {},
     "output_type": "execute_result"
    }
   ],
   "source": [
    "sudoku"
   ]
  },
  {
   "cell_type": "code",
   "execution_count": 138,
   "metadata": {},
   "outputs": [],
   "source": [
    "edged=cv2.Canny(gray,100,170,apertureSize=3)"
   ]
  },
  {
   "cell_type": "code",
   "execution_count": 139,
   "metadata": {},
   "outputs": [
    {
     "data": {
      "text/plain": [
       "(576, 768)"
      ]
     },
     "execution_count": 139,
     "metadata": {},
     "output_type": "execute_result"
    }
   ],
   "source": [
    "gray.shape"
   ]
  },
  {
   "cell_type": "code",
   "execution_count": 140,
   "metadata": {},
   "outputs": [],
   "source": [
    "lines=cv2.HoughLines(edged,1,np.pi/180,240)"
   ]
  },
  {
   "cell_type": "code",
   "execution_count": 141,
   "metadata": {},
   "outputs": [
    {
     "data": {
      "text/plain": [
       "array([[[   4.       ,    2.8797932]],\n",
       "\n",
       "       [[   2.       ,    2.8797932]],\n",
       "\n",
       "       [[ 637.       ,    1.2566371]],\n",
       "\n",
       "       [[ -77.       ,    2.8274333]],\n",
       "\n",
       "       [[ 507.       ,    1.2740903]],\n",
       "\n",
       "       [[-476.       ,    2.6179938]],\n",
       "\n",
       "       [[ 505.       ,    1.2740903]],\n",
       "\n",
       "       [[-130.       ,    2.7925267]],\n",
       "\n",
       "       [[ 379.       ,    1.2915436]],\n",
       "\n",
       "       [[ 323.       ,    1.2915436]],\n",
       "\n",
       "       [[ -21.       ,    2.86234  ]],\n",
       "\n",
       "       [[ 634.       ,    1.2566371]],\n",
       "\n",
       "       [[ -24.       ,    2.86234  ]],\n",
       "\n",
       "       [[ 574.       ,    1.2566371]],\n",
       "\n",
       "       [[-387.       ,    2.6703537]],\n",
       "\n",
       "       [[  21.       ,    2.8797932]],\n",
       "\n",
       "       [[-284.       ,    2.7052603]],\n",
       "\n",
       "       [[-429.       ,    2.6354473]],\n",
       "\n",
       "       [[ -75.       ,    2.8274333]],\n",
       "\n",
       "       [[-128.       ,    2.7925267]],\n",
       "\n",
       "       [[ 381.       ,    1.2915436]],\n",
       "\n",
       "       [[-485.       ,    2.6354473]],\n",
       "\n",
       "       [[-282.       ,    2.7052603]],\n",
       "\n",
       "       [[ 121.       ,    1.3089969]],\n",
       "\n",
       "       [[ 384.       ,    1.2740903]],\n",
       "\n",
       "       [[ 437.       ,    1.2915436]],\n",
       "\n",
       "       [[ 442.       ,    1.2740903]],\n",
       "\n",
       "       [[ 218.       ,    1.2915436]],\n",
       "\n",
       "       [[ 569.       ,    1.2740903]],\n",
       "\n",
       "       [[ 214.       ,    1.3089969]],\n",
       "\n",
       "       [[ 268.       ,    1.3089969]],\n",
       "\n",
       "       [[-505.       ,    2.6179938]],\n",
       "\n",
       "       [[-230.       ,    2.7227137]],\n",
       "\n",
       "       [[-385.       ,    2.6703537]]], dtype=float32)"
      ]
     },
     "execution_count": 141,
     "metadata": {},
     "output_type": "execute_result"
    }
   ],
   "source": [
    "lines"
   ]
  },
  {
   "cell_type": "code",
   "execution_count": 142,
   "metadata": {},
   "outputs": [
    {
     "data": {
      "text/plain": [
       "(34, 1, 2)"
      ]
     },
     "execution_count": 142,
     "metadata": {},
     "output_type": "execute_result"
    }
   ],
   "source": [
    "lines.shape"
   ]
  },
  {
   "cell_type": "code",
   "execution_count": 143,
   "metadata": {},
   "outputs": [
    {
     "data": {
      "text/plain": [
       "(1, 2)"
      ]
     },
     "execution_count": 143,
     "metadata": {},
     "output_type": "execute_result"
    }
   ],
   "source": [
    "lines[0].shape"
   ]
  },
  {
   "cell_type": "code",
   "execution_count": 144,
   "metadata": {},
   "outputs": [
    {
     "data": {
      "text/plain": [
       "(2,)"
      ]
     },
     "execution_count": 144,
     "metadata": {},
     "output_type": "execute_result"
    }
   ],
   "source": [
    "lines[0][0].shape"
   ]
  },
  {
   "cell_type": "code",
   "execution_count": 145,
   "metadata": {},
   "outputs": [
    {
     "data": {
      "text/plain": [
       "array([[4.       , 2.8797932]], dtype=float32)"
      ]
     },
     "execution_count": 145,
     "metadata": {},
     "output_type": "execute_result"
    }
   ],
   "source": [
    "lines[0]"
   ]
  },
  {
   "cell_type": "code",
   "execution_count": null,
   "metadata": {},
   "outputs": [],
   "source": []
  },
  {
   "cell_type": "code",
   "execution_count": 146,
   "metadata": {},
   "outputs": [
    {
     "data": {
      "text/plain": [
       "True"
      ]
     },
     "execution_count": 146,
     "metadata": {},
     "output_type": "execute_result"
    }
   ],
   "source": [
    "for line in lines:\n",
    "    rho,theta=line[0]\n",
    "    a = np.cos(theta)\n",
    "    b = np.sin(theta)\n",
    "    x0 = a*rho\n",
    "    y0 = b*rho\n",
    "    x1 = int(x0 + 1000*(-b))\n",
    "    y1 = int(y0 + 1000*(a))\n",
    "    x2 = int(x0 - 1000*(-b))\n",
    "    y2 = int(y0 - 1000*(a))\n",
    "\n",
    "    cv2.line(sudoku,(x1,y1),(x2,y2),(0,0,255),2)\n",
    "\n",
    "cv2.imwrite('houghlines3.jpg',sudoku)"
   ]
  },
  {
   "cell_type": "code",
   "execution_count": 147,
   "metadata": {},
   "outputs": [
    {
     "data": {
      "text/plain": [
       "106"
      ]
     },
     "execution_count": 147,
     "metadata": {},
     "output_type": "execute_result"
    }
   ],
   "source": [
    "cv2.imshow(\"hough\",sudoku)\n",
    "cv2.waitKey(0)"
   ]
  },
  {
   "cell_type": "code",
   "execution_count": 32,
   "metadata": {},
   "outputs": [
    {
     "data": {
      "text/plain": [
       "109"
      ]
     },
     "execution_count": 32,
     "metadata": {},
     "output_type": "execute_result"
    }
   ],
   "source": [
    "cv2.imshow(\"edged\",edged)\n",
    "cv2.waitKey(0)"
   ]
  },
  {
   "cell_type": "code",
   "execution_count": 148,
   "metadata": {},
   "outputs": [],
   "source": [
    "cv2.destroyAllWindows()"
   ]
  },
  {
   "cell_type": "code",
   "execution_count": null,
   "metadata": {},
   "outputs": [],
   "source": []
  }
 ],
 "metadata": {
  "kernelspec": {
   "display_name": "Python 3",
   "language": "python",
   "name": "python3"
  },
  "language_info": {
   "codemirror_mode": {
    "name": "ipython",
    "version": 3
   },
   "file_extension": ".py",
   "mimetype": "text/x-python",
   "name": "python",
   "nbconvert_exporter": "python",
   "pygments_lexer": "ipython3",
   "version": "3.7.3"
  }
 },
 "nbformat": 4,
 "nbformat_minor": 2
}
